{
  "nbformat": 4,
  "nbformat_minor": 0,
  "metadata": {
    "kernelspec": {
      "display_name": "Python 3",
      "language": "python",
      "name": "python3"
    },
    "language_info": {
      "codemirror_mode": {
        "name": "ipython",
        "version": 3
      },
      "file_extension": ".py",
      "mimetype": "text/x-python",
      "name": "python",
      "nbconvert_exporter": "python",
      "pygments_lexer": "ipython3",
      "version": "3.8.5"
    },
    "colab": {
      "provenance": [],
      "toc_visible": true
    }
  },
  "cells": [
    {
      "cell_type": "markdown",
      "metadata": {
        "id": "kmxLZ-0VuD5d"
      },
      "source": [
        "# **Examen del modulo Inteligencia Artificial**"
      ]
    },
    {
      "cell_type": "markdown",
      "metadata": {
        "id": "oxJW_sOkuD5t"
      },
      "source": [
        "# 1. Regresión"
      ]
    },
    {
      "cell_type": "markdown",
      "metadata": {
        "id": "5fIsvHfnuD5u"
      },
      "source": [
        "### ¿Qué es un problema de regresión?\n",
        "\n",
        "5 pts"
      ]
    },
    {
      "cell_type": "markdown",
      "metadata": {
        "id": "2_KuUpHPuD5v"
      },
      "source": [
        "Es cuando utilizamos machin learning para pedicir sucesos mediante los datos o anomalias en los datos y cuantifica los datos numericos que se recopilen"
      ]
    },
    {
      "cell_type": "markdown",
      "metadata": {
        "id": "rjmAnqQeuD5w"
      },
      "source": [
        "### Da dos ejemplos de un problema de regresión\n",
        "\n",
        "20 pts"
      ]
    },
    {
      "cell_type": "markdown",
      "metadata": {
        "id": "COcsvzrnuD5x"
      },
      "source": [
        "Tomando en cuenta la base de datos que utilizaste para tu proyecto, y otra mas que se utilizo en clase (la que mas te haya gustado o llamado la atencion), ejemplifica dos problemas de regresion, argumentando cual es su resultado, si es bueno o malo, y utilizando las metricas de evaluacion correctas."
      ]
    },
    {
      "cell_type": "code",
      "source": [
        "import numpy as np\n",
        "import pandas as pd\n",
        "# define the data/predictors as the pre-set feature names\n",
        "data = pd.read_csv('/content/SVMtrain(1).csv')\n",
        "data"
      ],
      "metadata": {
        "id": "9psZUX9vPr5v",
        "colab": {
          "base_uri": "https://localhost:8080/",
          "height": 424
        },
        "outputId": "b6279433-889b-4680-d6d2-c4ef19e5c804"
      },
      "execution_count": 1,
      "outputs": [
        {
          "output_type": "execute_result",
          "data": {
            "text/plain": [
              "     PassengerId  Survived  Pclass   Age  SibSp  Parch     Fare  Embarked\n",
              "0              1         0       3  22.0      1      0   7.2500         3\n",
              "1              2         1       1  38.0      1      0  71.2833         1\n",
              "2              3         1       3  26.0      0      0   7.9250         3\n",
              "3              4         1       1  35.0      1      0  53.1000         3\n",
              "4              5         0       3  35.0      0      0   8.0500         3\n",
              "..           ...       ...     ...   ...    ...    ...      ...       ...\n",
              "884          887         0       2  27.0      0      0  13.0000         3\n",
              "885          888         1       1  19.0      0      0  30.0000         3\n",
              "886          889         0       3  60.0      1      2  23.4500         3\n",
              "887          890         1       1  26.0      0      0  30.0000         1\n",
              "888          891         0       3  32.0      0      0   7.7500         2\n",
              "\n",
              "[889 rows x 8 columns]"
            ],
            "text/html": [
              "\n",
              "\n",
              "  <div id=\"df-774d8b53-d648-4761-bd9c-8ca33c5b55b8\">\n",
              "    <div class=\"colab-df-container\">\n",
              "      <div>\n",
              "<style scoped>\n",
              "    .dataframe tbody tr th:only-of-type {\n",
              "        vertical-align: middle;\n",
              "    }\n",
              "\n",
              "    .dataframe tbody tr th {\n",
              "        vertical-align: top;\n",
              "    }\n",
              "\n",
              "    .dataframe thead th {\n",
              "        text-align: right;\n",
              "    }\n",
              "</style>\n",
              "<table border=\"1\" class=\"dataframe\">\n",
              "  <thead>\n",
              "    <tr style=\"text-align: right;\">\n",
              "      <th></th>\n",
              "      <th>PassengerId</th>\n",
              "      <th>Survived</th>\n",
              "      <th>Pclass</th>\n",
              "      <th>Age</th>\n",
              "      <th>SibSp</th>\n",
              "      <th>Parch</th>\n",
              "      <th>Fare</th>\n",
              "      <th>Embarked</th>\n",
              "    </tr>\n",
              "  </thead>\n",
              "  <tbody>\n",
              "    <tr>\n",
              "      <th>0</th>\n",
              "      <td>1</td>\n",
              "      <td>0</td>\n",
              "      <td>3</td>\n",
              "      <td>22.0</td>\n",
              "      <td>1</td>\n",
              "      <td>0</td>\n",
              "      <td>7.2500</td>\n",
              "      <td>3</td>\n",
              "    </tr>\n",
              "    <tr>\n",
              "      <th>1</th>\n",
              "      <td>2</td>\n",
              "      <td>1</td>\n",
              "      <td>1</td>\n",
              "      <td>38.0</td>\n",
              "      <td>1</td>\n",
              "      <td>0</td>\n",
              "      <td>71.2833</td>\n",
              "      <td>1</td>\n",
              "    </tr>\n",
              "    <tr>\n",
              "      <th>2</th>\n",
              "      <td>3</td>\n",
              "      <td>1</td>\n",
              "      <td>3</td>\n",
              "      <td>26.0</td>\n",
              "      <td>0</td>\n",
              "      <td>0</td>\n",
              "      <td>7.9250</td>\n",
              "      <td>3</td>\n",
              "    </tr>\n",
              "    <tr>\n",
              "      <th>3</th>\n",
              "      <td>4</td>\n",
              "      <td>1</td>\n",
              "      <td>1</td>\n",
              "      <td>35.0</td>\n",
              "      <td>1</td>\n",
              "      <td>0</td>\n",
              "      <td>53.1000</td>\n",
              "      <td>3</td>\n",
              "    </tr>\n",
              "    <tr>\n",
              "      <th>4</th>\n",
              "      <td>5</td>\n",
              "      <td>0</td>\n",
              "      <td>3</td>\n",
              "      <td>35.0</td>\n",
              "      <td>0</td>\n",
              "      <td>0</td>\n",
              "      <td>8.0500</td>\n",
              "      <td>3</td>\n",
              "    </tr>\n",
              "    <tr>\n",
              "      <th>...</th>\n",
              "      <td>...</td>\n",
              "      <td>...</td>\n",
              "      <td>...</td>\n",
              "      <td>...</td>\n",
              "      <td>...</td>\n",
              "      <td>...</td>\n",
              "      <td>...</td>\n",
              "      <td>...</td>\n",
              "    </tr>\n",
              "    <tr>\n",
              "      <th>884</th>\n",
              "      <td>887</td>\n",
              "      <td>0</td>\n",
              "      <td>2</td>\n",
              "      <td>27.0</td>\n",
              "      <td>0</td>\n",
              "      <td>0</td>\n",
              "      <td>13.0000</td>\n",
              "      <td>3</td>\n",
              "    </tr>\n",
              "    <tr>\n",
              "      <th>885</th>\n",
              "      <td>888</td>\n",
              "      <td>1</td>\n",
              "      <td>1</td>\n",
              "      <td>19.0</td>\n",
              "      <td>0</td>\n",
              "      <td>0</td>\n",
              "      <td>30.0000</td>\n",
              "      <td>3</td>\n",
              "    </tr>\n",
              "    <tr>\n",
              "      <th>886</th>\n",
              "      <td>889</td>\n",
              "      <td>0</td>\n",
              "      <td>3</td>\n",
              "      <td>60.0</td>\n",
              "      <td>1</td>\n",
              "      <td>2</td>\n",
              "      <td>23.4500</td>\n",
              "      <td>3</td>\n",
              "    </tr>\n",
              "    <tr>\n",
              "      <th>887</th>\n",
              "      <td>890</td>\n",
              "      <td>1</td>\n",
              "      <td>1</td>\n",
              "      <td>26.0</td>\n",
              "      <td>0</td>\n",
              "      <td>0</td>\n",
              "      <td>30.0000</td>\n",
              "      <td>1</td>\n",
              "    </tr>\n",
              "    <tr>\n",
              "      <th>888</th>\n",
              "      <td>891</td>\n",
              "      <td>0</td>\n",
              "      <td>3</td>\n",
              "      <td>32.0</td>\n",
              "      <td>0</td>\n",
              "      <td>0</td>\n",
              "      <td>7.7500</td>\n",
              "      <td>2</td>\n",
              "    </tr>\n",
              "  </tbody>\n",
              "</table>\n",
              "<p>889 rows × 8 columns</p>\n",
              "</div>\n",
              "      <button class=\"colab-df-convert\" onclick=\"convertToInteractive('df-774d8b53-d648-4761-bd9c-8ca33c5b55b8')\"\n",
              "              title=\"Convert this dataframe to an interactive table.\"\n",
              "              style=\"display:none;\">\n",
              "\n",
              "  <svg xmlns=\"http://www.w3.org/2000/svg\" height=\"24px\"viewBox=\"0 0 24 24\"\n",
              "       width=\"24px\">\n",
              "    <path d=\"M0 0h24v24H0V0z\" fill=\"none\"/>\n",
              "    <path d=\"M18.56 5.44l.94 2.06.94-2.06 2.06-.94-2.06-.94-.94-2.06-.94 2.06-2.06.94zm-11 1L8.5 8.5l.94-2.06 2.06-.94-2.06-.94L8.5 2.5l-.94 2.06-2.06.94zm10 10l.94 2.06.94-2.06 2.06-.94-2.06-.94-.94-2.06-.94 2.06-2.06.94z\"/><path d=\"M17.41 7.96l-1.37-1.37c-.4-.4-.92-.59-1.43-.59-.52 0-1.04.2-1.43.59L10.3 9.45l-7.72 7.72c-.78.78-.78 2.05 0 2.83L4 21.41c.39.39.9.59 1.41.59.51 0 1.02-.2 1.41-.59l7.78-7.78 2.81-2.81c.8-.78.8-2.07 0-2.86zM5.41 20L4 18.59l7.72-7.72 1.47 1.35L5.41 20z\"/>\n",
              "  </svg>\n",
              "      </button>\n",
              "\n",
              "\n",
              "\n",
              "    <div id=\"df-b0a79f11-68e9-44d0-81b8-8238fc1c32fa\">\n",
              "      <button class=\"colab-df-quickchart\" onclick=\"quickchart('df-b0a79f11-68e9-44d0-81b8-8238fc1c32fa')\"\n",
              "              title=\"Suggest charts.\"\n",
              "              style=\"display:none;\">\n",
              "\n",
              "<svg xmlns=\"http://www.w3.org/2000/svg\" height=\"24px\"viewBox=\"0 0 24 24\"\n",
              "     width=\"24px\">\n",
              "    <g>\n",
              "        <path d=\"M19 3H5c-1.1 0-2 .9-2 2v14c0 1.1.9 2 2 2h14c1.1 0 2-.9 2-2V5c0-1.1-.9-2-2-2zM9 17H7v-7h2v7zm4 0h-2V7h2v10zm4 0h-2v-4h2v4z\"/>\n",
              "    </g>\n",
              "</svg>\n",
              "      </button>\n",
              "    </div>\n",
              "\n",
              "<style>\n",
              "  .colab-df-quickchart {\n",
              "    background-color: #E8F0FE;\n",
              "    border: none;\n",
              "    border-radius: 50%;\n",
              "    cursor: pointer;\n",
              "    display: none;\n",
              "    fill: #1967D2;\n",
              "    height: 32px;\n",
              "    padding: 0 0 0 0;\n",
              "    width: 32px;\n",
              "  }\n",
              "\n",
              "  .colab-df-quickchart:hover {\n",
              "    background-color: #E2EBFA;\n",
              "    box-shadow: 0px 1px 2px rgba(60, 64, 67, 0.3), 0px 1px 3px 1px rgba(60, 64, 67, 0.15);\n",
              "    fill: #174EA6;\n",
              "  }\n",
              "\n",
              "  [theme=dark] .colab-df-quickchart {\n",
              "    background-color: #3B4455;\n",
              "    fill: #D2E3FC;\n",
              "  }\n",
              "\n",
              "  [theme=dark] .colab-df-quickchart:hover {\n",
              "    background-color: #434B5C;\n",
              "    box-shadow: 0px 1px 3px 1px rgba(0, 0, 0, 0.15);\n",
              "    filter: drop-shadow(0px 1px 2px rgba(0, 0, 0, 0.3));\n",
              "    fill: #FFFFFF;\n",
              "  }\n",
              "</style>\n",
              "\n",
              "    <script>\n",
              "      async function quickchart(key) {\n",
              "        const containerElement = document.querySelector('#' + key);\n",
              "        const charts = await google.colab.kernel.invokeFunction(\n",
              "            'suggestCharts', [key], {});\n",
              "      }\n",
              "    </script>\n",
              "\n",
              "      <script>\n",
              "\n",
              "function displayQuickchartButton(domScope) {\n",
              "  let quickchartButtonEl =\n",
              "    domScope.querySelector('#df-b0a79f11-68e9-44d0-81b8-8238fc1c32fa button.colab-df-quickchart');\n",
              "  quickchartButtonEl.style.display =\n",
              "    google.colab.kernel.accessAllowed ? 'block' : 'none';\n",
              "}\n",
              "\n",
              "        displayQuickchartButton(document);\n",
              "      </script>\n",
              "      <style>\n",
              "    .colab-df-container {\n",
              "      display:flex;\n",
              "      flex-wrap:wrap;\n",
              "      gap: 12px;\n",
              "    }\n",
              "\n",
              "    .colab-df-convert {\n",
              "      background-color: #E8F0FE;\n",
              "      border: none;\n",
              "      border-radius: 50%;\n",
              "      cursor: pointer;\n",
              "      display: none;\n",
              "      fill: #1967D2;\n",
              "      height: 32px;\n",
              "      padding: 0 0 0 0;\n",
              "      width: 32px;\n",
              "    }\n",
              "\n",
              "    .colab-df-convert:hover {\n",
              "      background-color: #E2EBFA;\n",
              "      box-shadow: 0px 1px 2px rgba(60, 64, 67, 0.3), 0px 1px 3px 1px rgba(60, 64, 67, 0.15);\n",
              "      fill: #174EA6;\n",
              "    }\n",
              "\n",
              "    [theme=dark] .colab-df-convert {\n",
              "      background-color: #3B4455;\n",
              "      fill: #D2E3FC;\n",
              "    }\n",
              "\n",
              "    [theme=dark] .colab-df-convert:hover {\n",
              "      background-color: #434B5C;\n",
              "      box-shadow: 0px 1px 3px 1px rgba(0, 0, 0, 0.15);\n",
              "      filter: drop-shadow(0px 1px 2px rgba(0, 0, 0, 0.3));\n",
              "      fill: #FFFFFF;\n",
              "    }\n",
              "  </style>\n",
              "\n",
              "      <script>\n",
              "        const buttonEl =\n",
              "          document.querySelector('#df-774d8b53-d648-4761-bd9c-8ca33c5b55b8 button.colab-df-convert');\n",
              "        buttonEl.style.display =\n",
              "          google.colab.kernel.accessAllowed ? 'block' : 'none';\n",
              "\n",
              "        async function convertToInteractive(key) {\n",
              "          const element = document.querySelector('#df-774d8b53-d648-4761-bd9c-8ca33c5b55b8');\n",
              "          const dataTable =\n",
              "            await google.colab.kernel.invokeFunction('convertToInteractive',\n",
              "                                                     [key], {});\n",
              "          if (!dataTable) return;\n",
              "\n",
              "          const docLinkHtml = 'Like what you see? Visit the ' +\n",
              "            '<a target=\"_blank\" href=https://colab.research.google.com/notebooks/data_table.ipynb>data table notebook</a>'\n",
              "            + ' to learn more about interactive tables.';\n",
              "          element.innerHTML = '';\n",
              "          dataTable['output_type'] = 'display_data';\n",
              "          await google.colab.output.renderOutput(dataTable, element);\n",
              "          const docLink = document.createElement('div');\n",
              "          docLink.innerHTML = docLinkHtml;\n",
              "          element.appendChild(docLink);\n",
              "        }\n",
              "      </script>\n",
              "    </div>\n",
              "  </div>\n"
            ]
          },
          "metadata": {},
          "execution_count": 1
        }
      ]
    },
    {
      "cell_type": "code",
      "source": [
        "data.dtypes"
      ],
      "metadata": {
        "colab": {
          "base_uri": "https://localhost:8080/"
        },
        "id": "_8KeMAjKIctP",
        "outputId": "006bf608-1444-41ac-8559-2434c5765f9a"
      },
      "execution_count": 2,
      "outputs": [
        {
          "output_type": "execute_result",
          "data": {
            "text/plain": [
              "PassengerId      int64\n",
              "Survived         int64\n",
              "Pclass           int64\n",
              "Age            float64\n",
              "SibSp            int64\n",
              "Parch            int64\n",
              "Fare           float64\n",
              "Embarked         int64\n",
              "dtype: object"
            ]
          },
          "metadata": {},
          "execution_count": 2
        }
      ]
    },
    {
      "cell_type": "code",
      "source": [
        "data.columns"
      ],
      "metadata": {
        "colab": {
          "base_uri": "https://localhost:8080/"
        },
        "id": "ysFuMkpKIfs2",
        "outputId": "241dde9e-04d7-463d-b6a6-261de76da16f"
      },
      "execution_count": 3,
      "outputs": [
        {
          "output_type": "execute_result",
          "data": {
            "text/plain": [
              "Index(['PassengerId', 'Survived', 'Pclass', 'Age', 'SibSp', 'Parch', 'Fare',\n",
              "       'Embarked'],\n",
              "      dtype='object')"
            ]
          },
          "metadata": {},
          "execution_count": 3
        }
      ]
    },
    {
      "cell_type": "code",
      "source": [
        "import statsmodels.api as sm\n",
        "\n",
        "x = data[{'PassengerId', 'Survived', 'Pclass', 'Age', 'SibSp', 'Parch',\n",
        "       'Embarked'}]\n",
        "y=data['Fare']"
      ],
      "metadata": {
        "colab": {
          "base_uri": "https://localhost:8080/"
        },
        "id": "QcYqbZ8BIjXS",
        "outputId": "d3b2c85f-e9d8-49d5-c3dc-df3d5c77e70a"
      },
      "execution_count": 6,
      "outputs": [
        {
          "output_type": "stream",
          "name": "stderr",
          "text": [
            "<ipython-input-6-08c2deceaca0>:3: FutureWarning: Passing a set as an indexer is deprecated and will raise in a future version. Use a list instead.\n",
            "  x = data[{'PassengerId', 'Survived', 'Pclass', 'Age', 'SibSp', 'Parch',\n"
          ]
        }
      ]
    },
    {
      "cell_type": "code",
      "source": [
        "model = sm.OLS(y, x).fit()\n",
        "predictions = model.predict(x)\n",
        "\n",
        "print(model.summary())"
      ],
      "metadata": {
        "colab": {
          "base_uri": "https://localhost:8080/"
        },
        "id": "JLtnGBikI8iB",
        "outputId": "6df2c3ce-7c27-4242-8a4e-f26d02829bcf"
      },
      "execution_count": 7,
      "outputs": [
        {
          "output_type": "stream",
          "name": "stdout",
          "text": [
            "                                 OLS Regression Results                                \n",
            "=======================================================================================\n",
            "Dep. Variable:                   Fare   R-squared (uncentered):                   0.450\n",
            "Model:                            OLS   Adj. R-squared (uncentered):              0.446\n",
            "Method:                 Least Squares   F-statistic:                              103.2\n",
            "Date:                Sat, 05 Aug 2023   Prob (F-statistic):                   4.37e-110\n",
            "Time:                        19:19:27   Log-Likelihood:                         -4622.5\n",
            "No. Observations:                 889   AIC:                                      9259.\n",
            "Df Residuals:                     882   BIC:                                      9293.\n",
            "Df Model:                           7                                                  \n",
            "Covariance Type:            nonrobust                                                  \n",
            "===============================================================================\n",
            "                  coef    std err          t      P>|t|      [0.025      0.975]\n",
            "-------------------------------------------------------------------------------\n",
            "SibSp           7.8875      1.482      5.322      0.000       4.979      10.796\n",
            "Survived       25.4688      2.949      8.637      0.000      19.682      31.256\n",
            "Parch          12.6216      2.042      6.182      0.000       8.614      16.629\n",
            "Pclass        -16.1850      1.581    -10.235      0.000     -19.289     -13.081\n",
            "PassengerId     0.0258      0.005      4.710      0.000       0.015       0.037\n",
            "Age             0.6021      0.073      8.197      0.000       0.458       0.746\n",
            "Embarked        5.6488      1.585      3.563      0.000       2.537       8.760\n",
            "==============================================================================\n",
            "Omnibus:                      948.282   Durbin-Watson:                   2.029\n",
            "Prob(Omnibus):                  0.000   Jarque-Bera (JB):            68262.429\n",
            "Skew:                           5.020   Prob(JB):                         0.00\n",
            "Kurtosis:                      44.738   Cond. No.                     1.05e+03\n",
            "==============================================================================\n",
            "\n",
            "Notes:\n",
            "[1] R² is computed without centering (uncentered) since the model does not contain a constant.\n",
            "[2] Standard Errors assume that the covariance matrix of the errors is correctly specified.\n",
            "[3] The condition number is large, 1.05e+03. This might indicate that there are\n",
            "strong multicollinearity or other numerical problems.\n"
          ]
        }
      ]
    },
    {
      "cell_type": "markdown",
      "source": [
        "Como conclusion yo creo que el resultado es bueno ya que no hay probabilidad de que nuestra variable sufra algun cambio"
      ],
      "metadata": {
        "id": "wyA4PALWKq5G"
      }
    },
    {
      "cell_type": "markdown",
      "metadata": {
        "id": "cFeLiWlfuD5x"
      },
      "source": [
        "# 2. Clasificación"
      ]
    },
    {
      "cell_type": "markdown",
      "metadata": {
        "id": "2C0op_uiuD5x"
      },
      "source": [
        "### ¿Qué es un problema de clasificación?\n",
        "\n",
        "5 pts"
      ]
    },
    {
      "cell_type": "markdown",
      "metadata": {
        "id": "fA7B-O8HuD5y"
      },
      "source": [
        "Tambien es un algoritmo de predición de los datos, con machine learning solo a diferencia es que se realiza con variables de categorizacion de datos no numericos."
      ]
    },
    {
      "cell_type": "markdown",
      "metadata": {
        "id": "2S7vDsG7uD5z"
      },
      "source": [
        "### Da dos ejemplos de un problema de clasificación\n",
        "\n",
        "20 pts"
      ]
    },
    {
      "cell_type": "markdown",
      "metadata": {
        "id": "Ht2zVoBVuD50"
      },
      "source": [
        "Tomando en cuenta la base de datos que utilizaste para tu proyecto, y otra mas que se utilizo en clase (la que mas te haya gustado o llamado la atencion), ejemplifica dos problemas de regresion, argumentando cual es su resultado, si es bueno o malo, y utilizando las metricas de evaluacion correctas."
      ]
    },
    {
      "cell_type": "code",
      "source": [],
      "metadata": {
        "id": "eZXWqN_dPs2K"
      },
      "execution_count": null,
      "outputs": []
    },
    {
      "cell_type": "markdown",
      "metadata": {
        "id": "R6YZRgEduD51"
      },
      "source": [
        "# 3. Agrupamiento"
      ]
    },
    {
      "cell_type": "markdown",
      "metadata": {
        "id": "6kb4wMQLuD51"
      },
      "source": [
        "### ¿Qué es un problema de agrupamiento?\n",
        "\n",
        "5 pts"
      ]
    },
    {
      "cell_type": "markdown",
      "metadata": {
        "id": "wLI5B1vFuD52"
      },
      "source": [
        "El agrupamiento se encarga de revisar coincidencias entre los datos y podemos revisar las caracteriscas de los mismos y sirven para ver patrones de comportamientos."
      ]
    },
    {
      "cell_type": "markdown",
      "metadata": {
        "id": "DQ3EdgsGuD52"
      },
      "source": [
        "### Da al menos un ejemplo de un problema de agrupamiento\n",
        "\n",
        "15 pts"
      ]
    },
    {
      "cell_type": "markdown",
      "metadata": {
        "id": "rSnr-zrIuD53"
      },
      "source": [
        "Respuesta: Explica primero con palabras un ejemplo en el cual utilizar un modelo de agrupamiento pueda ayudarte a resolver un problema. Despues, utilizando cualquiera de las bases de datos que utilizamos en clase, ejemplifica el uso de un modelo de agrupamiento."
      ]
    },
    {
      "cell_type": "code",
      "source": [],
      "metadata": {
        "id": "j8bci6X-RxbM"
      },
      "execution_count": null,
      "outputs": []
    },
    {
      "cell_type": "markdown",
      "metadata": {
        "id": "h6OOaSbTuD53"
      },
      "source": [
        "### ¿Como funciona el algoritmo de k-medias?\n",
        "\n",
        "10 pts"
      ]
    },
    {
      "cell_type": "markdown",
      "metadata": {
        "id": "kkhbfc84uD54"
      },
      "source": [
        "Respuesta: Menciona el funcionamiento del algoritmo, y menciona al menos un escenario en el que este modelo pueda ayudarte. (puedes mencionar alguna de las bases de datos que usaste en clase, y no es necesario que codifiques)"
      ]
    },
    {
      "cell_type": "markdown",
      "source": [
        "\n",
        "1. se asigna al punto mas cercano\n",
        "2. Actualizamos los centroides promediando los puntos para cada cluster\n",
        "3. Le dan plot a cada punto\n",
        "4. Revisa la convergencia\n",
        "\n",
        "como ejemplo, podriamos seccionar con k-medias imagenes para identificar los colores, y aplicarlo para clasificación de objetos."
      ],
      "metadata": {
        "id": "Ieuq3d1ELtpg"
      }
    },
    {
      "cell_type": "markdown",
      "metadata": {
        "id": "cwxFJY93uD55"
      },
      "source": [
        "# 4. Reducción de dimensiones"
      ]
    },
    {
      "cell_type": "markdown",
      "metadata": {
        "id": "FFV1e3xpuD55"
      },
      "source": [
        "### ¿Cuál es el objetivo de la reducción de dimensiones?\n",
        "\n",
        "10 pts"
      ]
    },
    {
      "cell_type": "markdown",
      "metadata": {
        "id": "JaeR6DOouD55"
      },
      "source": [
        "Respuesta: Mencionar el objetivo principal de este metodo y agregar un escenario en el que es necesario utilizarlo."
      ]
    },
    {
      "cell_type": "markdown",
      "metadata": {
        "id": "boMELShpuD55"
      },
      "source": [
        "### ¿Como funciona el algoritmo de PCA?\n",
        "\n",
        "10 pts"
      ]
    },
    {
      "cell_type": "markdown",
      "metadata": {
        "id": "GLNjSt8EuD55"
      },
      "source": [
        "Respuesta: Solo menciona con tus propias palabras como funciona este algoritmo, no es necesario que lo codifiques\n",
        "\n"
      ]
    },
    {
      "cell_type": "markdown",
      "source": [
        "Ayuda a la reduccion de dimenciones de los datos y asi tener menos variables y poder visualizar de mejor manera los resultados.\n",
        "\n"
      ],
      "metadata": {
        "id": "Kcp-NA4jPbq2"
      }
    },
    {
      "cell_type": "markdown",
      "source": [
        "#Extra puntos:\n",
        "\n",
        "- Menciona con tus propias palabras, cual es la diferencia entre el aprendizaje supervisado y no supervisado. (2 pts)\n",
        "\n",
        "- Menciona en que casos es apropiado utilizar ambos modelos (Puedes ejemplificar con un problema visto en clase) (2 pts)\n"
      ],
      "metadata": {
        "id": "PZwe-LkQQdOu"
      }
    }
  ]
}